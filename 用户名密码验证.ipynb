{
  "nbformat": 4,
  "nbformat_minor": 0,
  "metadata": {
    "colab": {
      "provenance": [],
      "authorship_tag": "ABX9TyPc2OqKecDyVF0qb3gZS79R",
      "include_colab_link": true
    },
    "kernelspec": {
      "name": "python3",
      "display_name": "Python 3"
    },
    "language_info": {
      "name": "python"
    }
  },
  "cells": [
    {
      "cell_type": "markdown",
      "metadata": {
        "id": "view-in-github",
        "colab_type": "text"
      },
      "source": [
        "<a href=\"https://colab.research.google.com/github/MingzhiLiu88/PythonTool/blob/main/%E7%94%A8%E6%88%B7%E5%90%8D%E5%AF%86%E7%A0%81%E9%AA%8C%E8%AF%81.ipynb\" target=\"_parent\"><img src=\"https://colab.research.google.com/assets/colab-badge.svg\" alt=\"Open In Colab\"/></a>"
      ]
    },
    {
      "cell_type": "code",
      "execution_count": null,
      "metadata": {
        "colab": {
          "base_uri": "https://localhost:8080/"
        },
        "id": "Gg-i-sELENKs",
        "outputId": "8e67a201-9e68-4375-c95c-d89d56d022ff"
      },
      "outputs": [
        {
          "output_type": "stream",
          "name": "stdout",
          "text": [
            "请输入用户名：fas\n",
            "请输入密码：fsa\n",
            "用户名或密码错误，请重新输入！\n",
            "请输入用户名：admin\n",
            "请输入密码：123456\n",
            "欢迎访问！\n"
          ]
        }
      ],
      "source": [
        "is_logged_in = False\n",
        "while True:\n",
        "  if is_logged_in:\n",
        "    print(\"欢迎访问！\")\n",
        "    break\n",
        "  else:\n",
        "    username = input(\"请输入用户名：\")\n",
        "    password = input(\"请输入密码：\")\n",
        "    if username == \"admin\" and password == \"123456\":\n",
        "      is_logged_in = True\n",
        "    else:\n",
        "      print(\"用户名或密码错误，请重新输入！\")"
      ]
    }
  ]
}