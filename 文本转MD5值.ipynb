{
  "nbformat": 4,
  "nbformat_minor": 0,
  "metadata": {
    "colab": {
      "provenance": [],
      "authorship_tag": "ABX9TyOTzqh7gbQqe33yc2UZ0/Q5",
      "include_colab_link": true
    },
    "kernelspec": {
      "name": "python3",
      "display_name": "Python 3"
    },
    "language_info": {
      "name": "python"
    }
  },
  "cells": [
    {
      "cell_type": "markdown",
      "metadata": {
        "id": "view-in-github",
        "colab_type": "text"
      },
      "source": [
        "<a href=\"https://colab.research.google.com/github/MingzhiLiu88/PythonTool/blob/main/%E6%96%87%E6%9C%AC%E8%BD%ACMD5%E5%80%BC.ipynb\" target=\"_parent\"><img src=\"https://colab.research.google.com/assets/colab-badge.svg\" alt=\"Open In Colab\"/></a>"
      ]
    },
    {
      "cell_type": "code",
      "execution_count": null,
      "metadata": {
        "colab": {
          "base_uri": "https://localhost:8080/"
        },
        "id": "WtY6FGKvQXkS",
        "outputId": "5957f3cc-1a57-4e48-d259-bd381c066e0d"
      },
      "outputs": [
        {
          "output_type": "stream",
          "name": "stdout",
          "text": [
            "fe14f493e6e573bad4fef0768feb0c3f\n"
          ]
        }
      ],
      "source": [
        "import hashlib\n",
        "m = hashlib.md5()\n",
        "m.update('liumingzhi'.encode('utf8'))\n",
        "print(m.hexdigest())"
      ]
    }
  ]
}