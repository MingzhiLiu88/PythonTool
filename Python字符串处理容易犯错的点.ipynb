{
  "nbformat": 4,
  "nbformat_minor": 0,
  "metadata": {
    "colab": {
      "provenance": [],
      "authorship_tag": "ABX9TyOLtdKSjvfgTXqqtp8/Lhy9",
      "include_colab_link": true
    },
    "kernelspec": {
      "name": "python3",
      "display_name": "Python 3"
    },
    "language_info": {
      "name": "python"
    }
  },
  "cells": [
    {
      "cell_type": "markdown",
      "metadata": {
        "id": "view-in-github",
        "colab_type": "text"
      },
      "source": [
        "<a href=\"https://colab.research.google.com/github/MingzhiLiu88/PythonTool/blob/main/Python%E5%AD%97%E7%AC%A6%E4%B8%B2%E5%A4%84%E7%90%86%E5%AE%B9%E6%98%93%E7%8A%AF%E9%94%99%E7%9A%84%E7%82%B9.ipynb\" target=\"_parent\"><img src=\"https://colab.research.google.com/assets/colab-badge.svg\" alt=\"Open In Colab\"/></a>"
      ]
    },
    {
      "cell_type": "code",
      "execution_count": 6,
      "metadata": {
        "colab": {
          "base_uri": "https://localhost:8080/"
        },
        "id": "1ty344i9ueS8",
        "outputId": "f2046d92-aa7b-40a1-90df-c3ef9a19c854"
      },
      "outputs": [
        {
          "output_type": "stream",
          "name": "stdout",
          "text": [
            "baidu.com\n",
            "google.com\n",
            "ikipedia.org\n",
            "baidu.com\n",
            "google.com\n",
            "ikipedia.org\n",
            "baidu.com\n",
            "google.com\n",
            "wikipedia.org\n"
          ]
        }
      ],
      "source": [
        "urls = [\n",
        "    \"www.baidu.com\",\n",
        "    \"www.google.com\",\n",
        "    \"www.wikipedia.org\"\n",
        "]\n",
        "\n",
        "for url in urls:\n",
        "  print(url.lstrip(\"www.\"))\n",
        " # .lstrip这个方法在这里并不是移除www.这个字符串，而是从左到右寻找含有w和.的字符将其移除。\n",
        "for url in urls:\n",
        "  print(url.lstrip(\"w.\")) # 与上面实现的结果是一样的\n",
        "for url in urls:\n",
        "# 用removeprefix方法实现精准删除字符串：\n",
        "  print(url.removeprefix(\"www.\"))"
      ]
    }
  ]
}